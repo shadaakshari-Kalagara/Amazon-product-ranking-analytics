{
  "nbformat": 4,
  "nbformat_minor": 0,
  "metadata": {
    "colab": {
      "name": "Sentiment analysis.ipynb",
      "provenance": [],
      "collapsed_sections": []
    },
    "kernelspec": {
      "name": "python3",
      "display_name": "Python 3"
    },
    "language_info": {
      "name": "python"
    }
  },
  "cells": [
    {
      "cell_type": "code",
      "execution_count": null,
      "metadata": {
        "id": "dqZCnIQwa5xj"
      },
      "outputs": [],
      "source": [
        "# change the dataset name\n",
        "import pandas as pd\n",
        "data = pd.read_csv(\"/Users/ruthvik/Downloads/pc_rating.csv\", encoding = 'utf-8')"
      ]
    },
    {
      "cell_type": "code",
      "source": [
        "yourKey = '96ef11b188f4418b985e6a1dc79ac471'  # change the key \n",
        "\n",
        "import requests\n",
        "import time\n",
        "azure_sentiments = []\n",
        "time_counter = time.time()\n",
        "\n",
        "for review in list(data.review[100:]):\n",
        "    if len(review) > 5120:\n",
        "        azure_sentiments.append('no score')\n",
        "    \n",
        "    else:\n",
        "        print(\"waiting\")\n",
        "        print(abs(1 - (time.time() - time_counter)))\n",
        "        time.sleep(abs(1 - (time.time() - time_counter)))\n",
        "        time_counter = time.time()\n",
        "\n",
        "        # generate the url in azure and use it here \n",
        "        text_analytics_base_url = \"https://ruthvik.cognitiveservices.azure.com/text/analytics/v2.1/\"\n",
        "\n",
        "        sentiment_api_url = text_analytics_base_url + \"sentiment\"\n",
        "\n",
        "        documents = {'documents' : [\n",
        "          {'id': '1', 'language': 'en', 'text': review}]}\n",
        "\n",
        "        headers   = {\"Ocp-Apim-Subscription-Key\": yourKey}\n",
        "        response  = requests.post(sentiment_api_url, headers=headers, json=documents)\n",
        "        sentiments = response.json()\n",
        "        print(sentiments)\n",
        "        azure_sentiments.append(sentiments['documents'][0]['score'])"
      ],
      "metadata": {
        "id": "5JfpHrslbCQ7"
      },
      "execution_count": null,
      "outputs": []
    },
    {
      "cell_type": "code",
      "source": [
        "# writing the dataframe to csv file \n",
        "import pandas as pd\n",
        "import csv\n",
        "# writing sentiment to a file \n",
        "\n",
        "df = pd.DataFrame(list(zip(azure_sentiments)), \n",
        "            columns =['azure_sentiments'])\n",
        "df.to_csv('/Users/ruthvik/Downloads/pc_rating_sentiment_1.csv', index = False)"
      ],
      "metadata": {
        "id": "pg5Md5jebEf5"
      },
      "execution_count": null,
      "outputs": []
    },
    {
      "cell_type": "code",
      "source": [
        ""
      ],
      "metadata": {
        "id": "0BZ41cFabEon"
      },
      "execution_count": null,
      "outputs": []
    }
  ]
}