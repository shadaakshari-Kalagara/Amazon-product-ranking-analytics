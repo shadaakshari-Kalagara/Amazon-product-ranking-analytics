{
  "nbformat": 4,
  "nbformat_minor": 0,
  "metadata": {
    "colab": {
      "name": "product ttributes.ipynb",
      "provenance": [],
      "collapsed_sections": []
    },
    "kernelspec": {
      "name": "python3",
      "display_name": "Python 3"
    },
    "language_info": {
      "name": "python"
    }
  },
  "cells": [
    {
      "cell_type": "code",
      "execution_count": null,
      "metadata": {
        "id": "DSwWVoJyaM-Y"
      },
      "outputs": [],
      "source": [
        "import pandas as pd\n",
        "import time\n",
        "import urllib.request\n",
        "from urllib.request import FancyURLopener  # This is library that helps us create the headless browser\n",
        "import random\n",
        "from random import choice #This library helps pick a random item from a list\n",
        "from selenium.webdriver import Chrome\n",
        "import bs4 as bs\n",
        "from bs4 import BeautifulSoup\n",
        "from bs4 import SoupStrainer\n",
        "import csv"
      ]
    },
    {
      "cell_type": "code",
      "source": [
        "Answered_Questions=[]\n",
        "Price=[]\n",
        "Discount=[]\n",
        "customer_review_count=[]\n",
        "rank=[]\n",
        "\n",
        "# reading the individual files \n",
        "df_raw=pd.read_csv(\"electronicsru.csv\",encoding=\"latin1\")\n",
        "\n",
        "# iterating through all the top products in a category\n",
        "\n",
        "for i in range(0,100):\n",
        "    \n",
        "    url='https://www.amazon.com/'+df_raw[\"product_link\"][i]\n",
        "    \n",
        "    print(url)\n",
        "    user_agents = [\n",
        "    'Mozilla/5.0 (Windows NT 6.1) AppleWebKit/537.36 (KHTML, like Gecko) Chrome/41.0.2228.0 Safari/537.36',\n",
        "    'Opera/9.80 (X11; Linux i686; Ubuntu/14.10) Presto/2.12.388 Version/12.16',\n",
        "    'Mozilla/5.0 (Windows; U; Windows NT 6.1; rv:2.2) Gecko/20110201',\n",
        "    'Mozilla/5.0 (Macintosh; Intel Mac OS X 10_9_3) AppleWebKit/537.75.14 (KHTML, like Gecko) Version/7.0.3 Safari/7046A194A',\n",
        "    'Mozilla/5.0 (Windows NT 10.0; Win64; x64) AppleWebKit/537.36 (KHTML, like Gecko) Chrome/42.0.2311.135 Safari/537.36 Edge/12.246']\n",
        "    \n",
        "    try:\n",
        "        \n",
        "        class MyOpener(FancyURLopener, object):\n",
        "                version = choice(user_agents)\n",
        "\n",
        "        myopener = MyOpener()\n",
        "        page=myopener.open(url)\n",
        "\n",
        "        time.sleep(random.uniform(20,25))\n",
        "        html=page.read().decode('utf-8')\n",
        "        soup=bs.BeautifulSoup(html)\n",
        "        \n",
        "    except:\n",
        "        Answered_Questions.append(\"No Answered Questions\")\n",
        "        Price.append(\"No Price\")\n",
        "        Discount.append(\"No Discount\")\n",
        "        customer_review_count.append(\"No Customer Reviews\")\n",
        "        \n",
        "    # retrieve the answered questions\n",
        "    try:\n",
        "\n",
        "        Answered_Questions.append(soup.find_all(\"span\",class_=\"celwidget\")[0].find(\"span\",class_=\"a-size-base\").getText().replace(\"+\",\"\").split()[0])\n",
        "    except:\n",
        "        Answered_Questions.append(\"0\")\n",
        "    \n",
        "    \n",
        "    # Retrieve the price of the product\n",
        "    if soup.find_all(\"span\",class_=\"a-size-medium a-color-price priceBlockBuyingPriceString\")!= []:\n",
        "        Price.append(soup.find_all(\"span\",class_=\"a-size-medium a-color-price priceBlockBuyingPriceString\")[0].getText()[1:])\n",
        "    elif soup.find_all(\"span\",class_=\"a-size-medium a-color-price priceBlockDealPriceString\")!= []:\n",
        "        Price.append(soup.find_all(\"span\",class_=\"a-size-medium a-color-price priceBlockDealPriceString\")[0].getText()[1:])\n",
        "    else:\n",
        "        Price.append(\"0\")\n",
        "\n",
        "    # retrieve customer review count\n",
        "    try:\n",
        "        customer_review_count.append(soup.find_all(\"span\",class_=\"cr-widget-FocalReviews\")[0].find(\"span\",class_=\"a-size-base\").getText().split()[0])\n",
        "    except:\n",
        "        customer_review_count.append(\"0\")\n",
        "    \n",
        "    # retrieve discount\n",
        "    try:\n",
        "        Discount.append(soup.find_all(\"td\",class_=\"a-span12 a-color-price a-size-base priceBlockSavingsString\")[0].getText().replace(\"\\n\",\"\").split()[1].split('(')[1].split('%')[0])\n",
        "    except:\n",
        "        Discount.append(\"0\")\n",
        "    rank.append(i+1)\n",
        "\n",
        "# appending all the lists to a dataframe\n",
        "df = pd.DataFrame(list(zip(rank, Answered_Questions, Price , customer_review_count, Discount)), \n",
        "            columns =['rank', 'Answered_Questions', 'Price' , 'customer_review_count', 'Discount'])\n",
        "\n",
        "# exporting dataframe to csv file\n",
        "df.to_csv('dataframe_category.csv', index = False)\n"
      ],
      "metadata": {
        "id": "JyiFp16taSjY"
      },
      "execution_count": null,
      "outputs": []
    },
    {
      "cell_type": "code",
      "source": [
        ""
      ],
      "metadata": {
        "id": "gY8Nn_ByaVn-"
      },
      "execution_count": null,
      "outputs": []
    }
  ]
}