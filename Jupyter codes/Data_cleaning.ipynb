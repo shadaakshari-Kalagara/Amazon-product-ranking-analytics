{
  "nbformat": 4,
  "nbformat_minor": 0,
  "metadata": {
    "colab": {
      "name": "Data cleaning.ipynb",
      "provenance": []
    },
    "kernelspec": {
      "name": "python3",
      "display_name": "Python 3"
    },
    "language_info": {
      "name": "python"
    }
  },
  "cells": [
    {
      "cell_type": "code",
      "execution_count": null,
      "metadata": {
        "id": "XrZBMDFEYfEV"
      },
      "outputs": [],
      "source": [
        "import pandas as pd\n",
        "import csv"
      ]
    },
    {
      "cell_type": "code",
      "source": [
        "# attributes for each product\n",
        "cu_attr = pd.read_csv('/Users/ruthvik/Downloads/Cumulative attributes.csv')\n",
        "cu_attr.head()"
      ],
      "metadata": {
        "id": "zQu-5rMbYqNN"
      },
      "execution_count": null,
      "outputs": []
    },
    {
      "cell_type": "code",
      "source": [
        "# sentiment score file \n",
        "sentiment = pd.read_csv('/Users/ruthvik/Downloads/amazon data/Reviews/cumulative reviews.csv')\n",
        "sentiment.head()"
      ],
      "metadata": {
        "id": "8L53Cw0ZYs_I"
      },
      "execution_count": null,
      "outputs": []
    },
    {
      "cell_type": "code",
      "source": [
        "# aggregating sentiment by rank and category\n",
        "sentiment1 = sentiment.groupby(['rank','category'], as_index = False).agg({'sentiment score': ['mean']})\n",
        "sentiment1.columns = sentiment1.columns.get_level_values(0)\n",
        "\n",
        "# exporting to csv file\n",
        "sentiment1.to_csv(\"cumulative_scores.csv\", index = False)"
      ],
      "metadata": {
        "id": "xxYit7L6Yv9p"
      },
      "execution_count": null,
      "outputs": []
    },
    {
      "cell_type": "code",
      "source": [
        "# sentiment score file \n",
        "sentiment = pd.read_csv('/Users/ruthvik/Downloads/cumulative_scores.csv')\n",
        "sentiment.head()"
      ],
      "metadata": {
        "id": "D9yLOqYWY4Jr"
      },
      "execution_count": null,
      "outputs": []
    },
    {
      "cell_type": "code",
      "source": [
        "links = pd.read_csv('/Users/ruthvik/Downloads/amazon data/Links/Cumulative links.csv')\n",
        "links.head()"
      ],
      "metadata": {
        "id": "fpcF_y46Y69d"
      },
      "execution_count": null,
      "outputs": []
    },
    {
      "cell_type": "code",
      "source": [
        "a = links.merge(sentiment, on=['rank','category'], how='left')\n",
        "a.head()"
      ],
      "metadata": {
        "id": "L9o07FPwY704"
      },
      "execution_count": null,
      "outputs": []
    },
    {
      "cell_type": "code",
      "source": [
        "b = a.merge(cu_attr, on = ['rank', 'category'], how = 'left')\n",
        "b.head()"
      ],
      "metadata": {
        "id": "9pSu7C5QY-vS"
      },
      "execution_count": null,
      "outputs": []
    },
    {
      "cell_type": "code",
      "source": [
        "b['avg_rating'] = b['avg_rating'].str[:3]"
      ],
      "metadata": {
        "id": "19QGa8srZDVt"
      },
      "execution_count": null,
      "outputs": []
    },
    {
      "cell_type": "code",
      "source": [
        "b.to_csv('modelfile.csv', index = False)"
      ],
      "metadata": {
        "id": "P9rapHfnZEU5"
      },
      "execution_count": null,
      "outputs": []
    }
  ]
}